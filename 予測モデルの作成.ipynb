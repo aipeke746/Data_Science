{
 "cells": [
  {
   "cell_type": "markdown",
   "metadata": {},
   "source": [
    "# 課題2: 予測モデルの作成\n",
    "\n",
    "本課題では課題1と同じデータを用いてデータ分析の流れを確認します。なお本編では理論的な内容に踏み込んで実習を行いましたが、この課題では本編で触れられなかった内容の補足や便利なライブラリの命令を駆使してデータ分析をしてもらいます。\n",
    "\n",
    "各セルに入っているコメントの下に、実行するコードを記入してください。わからない場合は、ここまでのレッスン内容や各種ライブラリの公式ドキュメントを参照しましょう。"
   ]
  },
  {
   "cell_type": "markdown",
   "metadata": {},
   "source": [
    "## 1. 必要なモジュールを読み込む"
   ]
  },
  {
   "cell_type": "code",
   "execution_count": 34,
   "metadata": {
    "scrolled": true
   },
   "outputs": [],
   "source": [
    "import matplotlib\n",
    "import matplotlib.pyplot as plt\n",
    "import numpy as np\n",
    "import pandas as pd\n",
    "\n",
    "matplotlib.style.use('ggplot')\n",
    "\n",
    "from sklearn.linear_model import LinearRegression\n",
    "from sklearn.tree import DecisionTreeRegressor\n",
    "from sklearn.ensemble import RandomForestRegressor\n",
    "\n",
    "from sklearn.model_selection import train_test_split\n",
    "from sklearn.metrics import mean_squared_error\n",
    "\n",
    "%matplotlib inline"
   ]
  },
  {
   "cell_type": "markdown",
   "metadata": {},
   "source": [
    "## 2. データの読み込み\n",
    "\n",
    "pandasにはread_csvという関数が用意されており、それを用いれば簡単にCSVファイルを読み込むことができます。\n",
    "\n",
    "データはdatasetフォルダ直下にある\"kaggle_housing_price.csv\"を使用します。"
   ]
  },
  {
   "cell_type": "code",
   "execution_count": 19,
   "metadata": {},
   "outputs": [],
   "source": [
    "# データ読み込み\n",
    "dataset = pd.read_csv('kaggle_housing_price.csv')"
   ]
  },
  {
   "cell_type": "code",
   "execution_count": 20,
   "metadata": {},
   "outputs": [
    {
     "data": {
      "text/html": [
       "<div>\n",
       "<style scoped>\n",
       "    .dataframe tbody tr th:only-of-type {\n",
       "        vertical-align: middle;\n",
       "    }\n",
       "\n",
       "    .dataframe tbody tr th {\n",
       "        vertical-align: top;\n",
       "    }\n",
       "\n",
       "    .dataframe thead th {\n",
       "        text-align: right;\n",
       "    }\n",
       "</style>\n",
       "<table border=\"1\" class=\"dataframe\">\n",
       "  <thead>\n",
       "    <tr style=\"text-align: right;\">\n",
       "      <th></th>\n",
       "      <th>Id</th>\n",
       "      <th>MSSubClass</th>\n",
       "      <th>MSZoning</th>\n",
       "      <th>LotFrontage</th>\n",
       "      <th>LotArea</th>\n",
       "      <th>Street</th>\n",
       "      <th>Alley</th>\n",
       "      <th>LotShape</th>\n",
       "      <th>LandContour</th>\n",
       "      <th>Utilities</th>\n",
       "      <th>...</th>\n",
       "      <th>PoolArea</th>\n",
       "      <th>PoolQC</th>\n",
       "      <th>Fence</th>\n",
       "      <th>MiscFeature</th>\n",
       "      <th>MiscVal</th>\n",
       "      <th>MoSold</th>\n",
       "      <th>YrSold</th>\n",
       "      <th>SaleType</th>\n",
       "      <th>SaleCondition</th>\n",
       "      <th>SalePrice</th>\n",
       "    </tr>\n",
       "  </thead>\n",
       "  <tbody>\n",
       "    <tr>\n",
       "      <th>0</th>\n",
       "      <td>1</td>\n",
       "      <td>60</td>\n",
       "      <td>RL</td>\n",
       "      <td>65.0</td>\n",
       "      <td>8450</td>\n",
       "      <td>Pave</td>\n",
       "      <td>NaN</td>\n",
       "      <td>Reg</td>\n",
       "      <td>Lvl</td>\n",
       "      <td>AllPub</td>\n",
       "      <td>...</td>\n",
       "      <td>0</td>\n",
       "      <td>NaN</td>\n",
       "      <td>NaN</td>\n",
       "      <td>NaN</td>\n",
       "      <td>0</td>\n",
       "      <td>2</td>\n",
       "      <td>2008</td>\n",
       "      <td>WD</td>\n",
       "      <td>Normal</td>\n",
       "      <td>208500</td>\n",
       "    </tr>\n",
       "    <tr>\n",
       "      <th>1</th>\n",
       "      <td>2</td>\n",
       "      <td>20</td>\n",
       "      <td>RL</td>\n",
       "      <td>80.0</td>\n",
       "      <td>9600</td>\n",
       "      <td>Pave</td>\n",
       "      <td>NaN</td>\n",
       "      <td>Reg</td>\n",
       "      <td>Lvl</td>\n",
       "      <td>AllPub</td>\n",
       "      <td>...</td>\n",
       "      <td>0</td>\n",
       "      <td>NaN</td>\n",
       "      <td>NaN</td>\n",
       "      <td>NaN</td>\n",
       "      <td>0</td>\n",
       "      <td>5</td>\n",
       "      <td>2007</td>\n",
       "      <td>WD</td>\n",
       "      <td>Normal</td>\n",
       "      <td>181500</td>\n",
       "    </tr>\n",
       "    <tr>\n",
       "      <th>2</th>\n",
       "      <td>3</td>\n",
       "      <td>60</td>\n",
       "      <td>RL</td>\n",
       "      <td>68.0</td>\n",
       "      <td>11250</td>\n",
       "      <td>Pave</td>\n",
       "      <td>NaN</td>\n",
       "      <td>IR1</td>\n",
       "      <td>Lvl</td>\n",
       "      <td>AllPub</td>\n",
       "      <td>...</td>\n",
       "      <td>0</td>\n",
       "      <td>NaN</td>\n",
       "      <td>NaN</td>\n",
       "      <td>NaN</td>\n",
       "      <td>0</td>\n",
       "      <td>9</td>\n",
       "      <td>2008</td>\n",
       "      <td>WD</td>\n",
       "      <td>Normal</td>\n",
       "      <td>223500</td>\n",
       "    </tr>\n",
       "    <tr>\n",
       "      <th>3</th>\n",
       "      <td>4</td>\n",
       "      <td>70</td>\n",
       "      <td>RL</td>\n",
       "      <td>60.0</td>\n",
       "      <td>9550</td>\n",
       "      <td>Pave</td>\n",
       "      <td>NaN</td>\n",
       "      <td>IR1</td>\n",
       "      <td>Lvl</td>\n",
       "      <td>AllPub</td>\n",
       "      <td>...</td>\n",
       "      <td>0</td>\n",
       "      <td>NaN</td>\n",
       "      <td>NaN</td>\n",
       "      <td>NaN</td>\n",
       "      <td>0</td>\n",
       "      <td>2</td>\n",
       "      <td>2006</td>\n",
       "      <td>WD</td>\n",
       "      <td>Abnorml</td>\n",
       "      <td>140000</td>\n",
       "    </tr>\n",
       "    <tr>\n",
       "      <th>4</th>\n",
       "      <td>5</td>\n",
       "      <td>60</td>\n",
       "      <td>RL</td>\n",
       "      <td>84.0</td>\n",
       "      <td>14260</td>\n",
       "      <td>Pave</td>\n",
       "      <td>NaN</td>\n",
       "      <td>IR1</td>\n",
       "      <td>Lvl</td>\n",
       "      <td>AllPub</td>\n",
       "      <td>...</td>\n",
       "      <td>0</td>\n",
       "      <td>NaN</td>\n",
       "      <td>NaN</td>\n",
       "      <td>NaN</td>\n",
       "      <td>0</td>\n",
       "      <td>12</td>\n",
       "      <td>2008</td>\n",
       "      <td>WD</td>\n",
       "      <td>Normal</td>\n",
       "      <td>250000</td>\n",
       "    </tr>\n",
       "  </tbody>\n",
       "</table>\n",
       "<p>5 rows × 81 columns</p>\n",
       "</div>"
      ],
      "text/plain": [
       "   Id  MSSubClass MSZoning  LotFrontage  LotArea Street Alley LotShape  \\\n",
       "0   1          60       RL         65.0     8450   Pave   NaN      Reg   \n",
       "1   2          20       RL         80.0     9600   Pave   NaN      Reg   \n",
       "2   3          60       RL         68.0    11250   Pave   NaN      IR1   \n",
       "3   4          70       RL         60.0     9550   Pave   NaN      IR1   \n",
       "4   5          60       RL         84.0    14260   Pave   NaN      IR1   \n",
       "\n",
       "  LandContour Utilities    ...     PoolArea PoolQC Fence MiscFeature MiscVal  \\\n",
       "0         Lvl    AllPub    ...            0    NaN   NaN         NaN       0   \n",
       "1         Lvl    AllPub    ...            0    NaN   NaN         NaN       0   \n",
       "2         Lvl    AllPub    ...            0    NaN   NaN         NaN       0   \n",
       "3         Lvl    AllPub    ...            0    NaN   NaN         NaN       0   \n",
       "4         Lvl    AllPub    ...            0    NaN   NaN         NaN       0   \n",
       "\n",
       "  MoSold YrSold  SaleType  SaleCondition  SalePrice  \n",
       "0      2   2008        WD         Normal     208500  \n",
       "1      5   2007        WD         Normal     181500  \n",
       "2      9   2008        WD         Normal     223500  \n",
       "3      2   2006        WD        Abnorml     140000  \n",
       "4     12   2008        WD         Normal     250000  \n",
       "\n",
       "[5 rows x 81 columns]"
      ]
     },
     "execution_count": 20,
     "metadata": {},
     "output_type": "execute_result"
    }
   ],
   "source": [
    "# データを最初の5行だけ表示\n",
    "dataset.head()"
   ]
  },
  {
   "cell_type": "markdown",
   "metadata": {},
   "source": [
    "## 3. 変数の選択"
   ]
  },
  {
   "cell_type": "markdown",
   "metadata": {},
   "source": [
    "ここでは、`OverallQual`, `GrLivArea`, `2ndFlrSF`, `BsmtFinSF1`,  `OverallCond` 列を採用し、それらと `SalePrice` で解析を進めます。"
   ]
  },
  {
   "cell_type": "code",
   "execution_count": 21,
   "metadata": {},
   "outputs": [],
   "source": [
    "# 今回の解析では下記の列を使用することとします\n",
    "target_col = 'SalePrice'\n",
    "feature_cols = ['OverallQual', 'GrLivArea', '2ndFlrSF', 'BsmtFinSF1', 'OverallCond']"
   ]
  },
  {
   "cell_type": "code",
   "execution_count": 22,
   "metadata": {},
   "outputs": [],
   "source": [
    "# target_colとfeature_colsをarrayにして、それぞれをY、Xとする\n",
    "Y = np.array(dataset[target_col])\n",
    "X = np.array(dataset[feature_cols])"
   ]
  },
  {
   "cell_type": "markdown",
   "metadata": {},
   "source": [
    "## 4. ホールドアウト法"
   ]
  },
  {
   "cell_type": "markdown",
   "metadata": {},
   "source": [
    "本編では交差検証（クロスバリデーション）の実習を行いましたが、この課題ではホールドアウト法でデータを分割する作業を行います。\n",
    "\n",
    "scikit-learn の `train_test_split` を使うと楽にデータを分割できます。ここでは更に訓練データを2つ（学習用途と検証用途）に分けます。\n",
    "\n",
    "参考：https://scikit-learn.org/0.19/modules/generated/sklearn.model_selection.train_test_split.html"
   ]
  },
  {
   "cell_type": "code",
   "execution_count": 23,
   "metadata": {},
   "outputs": [],
   "source": [
    "# DataをTrain　: Test = 7　:　3に分ける\n",
    "train_X, test_X, train_y, test_y = train_test_split(X, Y, train_size=0.7, test_size=0.3)"
   ]
  },
  {
   "cell_type": "code",
   "execution_count": 24,
   "metadata": {},
   "outputs": [],
   "source": [
    "# Trainをさらに 7:3 に分ける\n",
    "train_X1, train_X2, train_y1, train_y2 = train_test_split(train_X, train_y, test_size=0.3)"
   ]
  },
  {
   "cell_type": "markdown",
   "metadata": {},
   "source": [
    "##### 5. アルゴリズムの選択\n",
    "\n",
    "回帰、決定木、ランダムフォレスト。以上の3つのアルゴリズムそれぞれで予測モデルを作成し、それらを比較します。なお、決定木とランダムフォレストのアルゴリズムの詳細はレッスン7で学習しますが、ここでは scikit-learn で最初から用意されている命令を使って決定木とランダムフォレストの予測モデルを作成します。回帰の他に様々な方法があるのだと理解いただければ構いません。\n",
    "\n",
    "参考1：https://scikit-learn.org/0.19/modules/generated/sklearn.tree.DecisionTreeRegressor.html\n",
    "\n",
    "参考2：https://scikit-learn.org/0.19/modules/generated/sklearn.ensemble.RandomForestRegressor.html\n",
    "\n",
    "また、MSEの計算も、scikit-learn がもつ `mean_squared_error` を利用します。\n",
    "\n",
    "参考3：https://scikit-learn.org/0.19/modules/generated/sklearn.metrics.mean_squared_error.html"
   ]
  },
  {
   "cell_type": "code",
   "execution_count": 50,
   "metadata": {},
   "outputs": [
    {
     "name": "stdout",
     "output_type": "stream",
     "text": [
      "LinearModel: 1310887798.274289\n"
     ]
    }
   ],
   "source": [
    "# 回帰分析を実施し、検証用データMSEを算出\n",
    "LinearModel = LinearRegression().fit(train_X1, train_y1)\n",
    "predict_Linear = LinearModel.predict(train_X2)\n",
    "mse_Linear = mean_squared_error(train_y2, predict_Linear)\n",
    "print('LinearModel:', mse_Linear)"
   ]
  },
  {
   "cell_type": "code",
   "execution_count": 51,
   "metadata": {},
   "outputs": [
    {
     "name": "stdout",
     "output_type": "stream",
     "text": [
      "DecitionTreeModel: 1814457578.098534\n"
     ]
    }
   ],
   "source": [
    "#決定木を実行し、検証用データでMSEを算出\n",
    "TreeModel = DecisionTreeRegressor().fit(train_X1, train_y1)\n",
    "predict_Tree = TreeModel.predict(train_X2)\n",
    "mse_Tree = mean_squared_error(train_y2, predict_Tree)\n",
    "print('DecitionTreeModel:', mse_Tree)"
   ]
  },
  {
   "cell_type": "code",
   "execution_count": 52,
   "metadata": {},
   "outputs": [
    {
     "name": "stdout",
     "output_type": "stream",
     "text": [
      "RandomForest: 1386289336.8895185\n"
     ]
    }
   ],
   "source": [
    "# ランダムフォレストを実行し、検証用データでMSEを算出\n",
    "RandomModel = RandomForestRegressor().fit(train_X1, train_y1)\n",
    "predict_Random = RandomModel.predict(train_X2)\n",
    "mse_Random = mean_squared_error(train_y2, predict_Random)\n",
    "print('RandomForest:', mse_Random)"
   ]
  },
  {
   "cell_type": "markdown",
   "metadata": {},
   "source": [
    "## 6. モデルの最終評価\n",
    "\n",
    "3つのモデルの中ではMSEの値が最も良かったランダムフォレストについて、テストデータでモデルの最終的な評価をしてください。"
   ]
  },
  {
   "cell_type": "code",
   "execution_count": 60,
   "metadata": {
    "scrolled": true
   },
   "outputs": [
    {
     "name": "stdout",
     "output_type": "stream",
     "text": [
      "Linear_test: 1406650672.2528713\n"
     ]
    }
   ],
   "source": [
    "# Test dataを用いてMSEを算出し、予測精度を確認\n",
    "predict_Linear = LinearModel.predict(test_X)\n",
    "mse_Linear_test = mean_squared_error(test_y, predict_Linear)\n",
    "print('Linear_test:', mse_Linear_test)"
   ]
  },
  {
   "cell_type": "markdown",
   "metadata": {},
   "source": [
    "## 7. エラー分析"
   ]
  },
  {
   "cell_type": "code",
   "execution_count": 76,
   "metadata": {},
   "outputs": [
    {
     "data": {
      "text/plain": [
       "Text(0,0.5,'Predicted SalePrice')"
      ]
     },
     "execution_count": 76,
     "metadata": {},
     "output_type": "execute_result"
    },
    {
     "data": {
      "image/png": "[encoded data removed]",
      "text/plain": [
       "<Figure size 360x360 with 1 Axes>"
      ]
     },
     "metadata": {
      "needs_background": "light"
     },
     "output_type": "display_data"
    }
   ],
   "source": [
    "# 横軸：実際の成約価格、縦軸：予測した成約価格で散布図を作成し予測の誤差を確認\n",
    "fig = plt.figure()\n",
    "fig.set_size_inches(5, 5)\n",
    "\n",
    "plt.plot(test_y, predict_Linear, '.', alpha=.6)\n",
    "\n",
    "minvalue = 0\n",
    "maxvalue = 500000\n",
    "\n",
    "plt.plot((minvalue, maxvalue), (minvalue, maxvalue), 'k--', lw=0.5)\n",
    "plt.xlabel('Actural SalePrice')\n",
    "plt.ylabel('Predicted SalePrice')"
   ]
  },
  {
   "cell_type": "code",
   "execution_count": 88,
   "metadata": {},
   "outputs": [
    {
     "data": {
      "text/plain": [
       "(array([  1.,   0.,   0.,   0.,   0.,   0.,   0.,   0.,   0.,   0.,   0.,\n",
       "          0.,   0.,   0.,   0.,   0.,   0.,   0.,   0.,   0.,   0.,   0.,\n",
       "          0.,   0.,   0.,   1.,   0.,   0.,   0.,   1.,   0.,   0.,   0.,\n",
       "          0.,   0.,   0.,   1.,   0.,   0.,   0.,   2.,   2.,  52., 218.,\n",
       "        120.,  26.,   7.,   3.,   2.,   2.]),\n",
       " array([-8.61059311, -8.39118996, -8.17178681, -7.95238366, -7.73298051,\n",
       "        -7.51357736, -7.29417421, -7.07477106, -6.85536791, -6.63596476,\n",
       "        -6.41656161, -6.19715846, -5.97775532, -5.75835217, -5.53894902,\n",
       "        -5.31954587, -5.10014272, -4.88073957, -4.66133642, -4.44193327,\n",
       "        -4.22253012, -4.00312697, -3.78372382, -3.56432067, -3.34491752,\n",
       "        -3.12551437, -2.90611122, -2.68670807, -2.46730492, -2.24790177,\n",
       "        -2.02849862, -1.80909547, -1.58969232, -1.37028917, -1.15088602,\n",
       "        -0.93148287, -0.71207972, -0.49267657, -0.27327342, -0.05387027,\n",
       "         0.16553288,  0.38493603,  0.60433918,  0.82374233,  1.04314547,\n",
       "         1.26254862,  1.48195177,  1.70135492,  1.92075807,  2.14016122,\n",
       "         2.35956437]),\n",
       " <a list of 50 Patch objects>)"
      ]
     },
     "execution_count": 88,
     "metadata": {},
     "output_type": "execute_result"
    },
    {
     "data": {
      "image/png": "[encoded data removed]",
      "text/plain": [
       "<Figure size 432x288 with 1 Axes>"
      ]
     },
     "metadata": {
      "needs_background": "light"
     },
     "output_type": "display_data"
    }
   ],
   "source": [
    "# 実際の成約価格と予測価格の誤差率をヒストグラムで表示\n",
    "data = test_y / predict_Linear\n",
    "plt.hist(data, bins = 50)"
   ]
  },
  {
   "cell_type": "code",
   "execution_count": null,
   "metadata": {},
   "outputs": [],
   "source": []
  }
 ],
 "metadata": {
  "anaconda-cloud": {},
  "kernelspec": {
   "display_name": "Python 3",
   "language": "python",
   "name": "python3"
  },
  "language_info": {
   "codemirror_mode": {
    "name": "ipython",
    "version": 3
   },
   "file_extension": ".py",
   "mimetype": "text/x-python",
   "name": "python",
   "nbconvert_exporter": "python",
   "pygments_lexer": "ipython3",
   "version": "3.6.5"
  }
 },
 "nbformat": 4,
 "nbformat_minor": 2
}
