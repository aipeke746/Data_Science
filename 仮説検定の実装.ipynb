{
 "cells": [
  {
   "cell_type": "markdown",
   "metadata": {},
   "source": [
    "<H2>課題1：仮説検定を実装する</H2>\n",
    "<p>ここでは、いわゆる古典的統計手法と言われる仮説検定をPythonで実装してみましょう。</p>\n",
    "<p>レッスン6までで学んだ内容を踏まえ、各セルに入っているコメントを実行するコードを記入してください。</p>"
   ]
  },
  {
   "cell_type": "markdown",
   "metadata": {},
   "source": [
    "<H2>1. 必要なモジュールの読み込み</H2>"
   ]
  },
  {
   "cell_type": "code",
   "execution_count": 3,
   "metadata": {},
   "outputs": [],
   "source": [
    "import numpy as np\n",
    "import scipy as sp\n",
    "import matplotlib.pyplot as plt\n",
    "import seaborn as sns\n",
    "sns.set()\n",
    "from scipy import stats\n",
    "\n",
    "%matplotlib inline"
   ]
  },
  {
   "cell_type": "markdown",
   "metadata": {},
   "source": [
    "<H2>2. 1標本における解析</H2>\n",
    "<p>本課題では乱数を発生させることでデータを作成し、それについて解析してみましょう。</p>\n",
    "<p>乱数のパラメータを変更すると結果がどう変化するのか、試してみるとより理解が深まるかと思います。</p>"
   ]
  },
  {
   "cell_type": "code",
   "execution_count": 4,
   "metadata": {},
   "outputs": [],
   "source": [
    "# 任意の平均値・標準偏差をもつ正規乱数を任意のサイズで作成し、\"data1\"に格納\n",
    "np.random.seed(0)\n",
    "\n",
    "norm_dist = stats.norm(loc=50, scale=10)\n",
    "data1 = norm_dist.rvs(size = 1000)"
   ]
  },
  {
   "cell_type": "code",
   "execution_count": 7,
   "metadata": {
    "scrolled": false
   },
   "outputs": [
    {
     "data": {
      "text/plain": [
       "(array([  9.,  20.,  70., 146., 217., 239., 160.,  86.,  38.,  15.]),\n",
       " array([19.53856945, 25.34406762, 31.14956579, 36.95506396, 42.76056213,\n",
       "        48.5660603 , 54.37155846, 60.17705663, 65.9825548 , 71.78805297,\n",
       "        77.59355114]),\n",
       " <a list of 10 Patch objects>)"
      ]
     },
     "execution_count": 7,
     "metadata": {},
     "output_type": "execute_result"
    },
    {
     "data": {
      "image/png": "[encoded data removed]",
      "text/plain": [
       "<Figure size 432x288 with 1 Axes>"
      ]
     },
     "metadata": {
      "needs_background": "light"
     },
     "output_type": "display_data"
    }
   ],
   "source": [
    "#　data1のヒストグラムを作成\n",
    "plt.hist(data1, alpha=0.5, color='b')"
   ]
  },
  {
   "cell_type": "code",
   "execution_count": 8,
   "metadata": {},
   "outputs": [
    {
     "data": {
      "text/plain": [
       "49.54743292509804"
      ]
     },
     "execution_count": 8,
     "metadata": {},
     "output_type": "execute_result"
    }
   ],
   "source": [
    "# 母平均の点推定を計算し、結果を表示\n",
    "mu = sp.mean(data1)\n",
    "mu"
   ]
  },
  {
   "cell_type": "code",
   "execution_count": 9,
   "metadata": {},
   "outputs": [
    {
     "data": {
      "text/plain": [
       "(48.93462612126609, 50.160239728929994)"
      ]
     },
     "execution_count": 9,
     "metadata": {},
     "output_type": "execute_result"
    }
   ],
   "source": [
    "# 95%信頼区間の推定を行い、上側信頼限界と下側信頼限界の値を表示\n",
    "\n",
    "# 自由度を計算\n",
    "df = len(data1) -1\n",
    "\n",
    "# 標準誤差を計算\n",
    "sigma = sp.std(data1, ddof=1)\n",
    "se = sigma/sp.sqrt(len(data1))\n",
    "\n",
    "interval = stats.t.interval(alpha=0.95, df=df, loc=mu, scale=se)\n",
    "interval"
   ]
  },
  {
   "cell_type": "code",
   "execution_count": 10,
   "metadata": {},
   "outputs": [
    {
     "data": {
      "text/plain": [
       "0.4800661915327197"
      ]
     },
     "execution_count": 10,
     "metadata": {},
     "output_type": "execute_result"
    }
   ],
   "source": [
    "# 任意のt値を設定し、片側検定した結果を表示\n",
    "t_value = 0.05\n",
    "alpha = stats.t.cdf(t_value, df=df)\n",
    "\n",
    "p_value = 1 - alpha\n",
    "p_value"
   ]
  },
  {
   "cell_type": "code",
   "execution_count": 11,
   "metadata": {},
   "outputs": [
    {
     "data": {
      "text/plain": [
       "0.9601323830654394"
      ]
     },
     "execution_count": 11,
     "metadata": {},
     "output_type": "execute_result"
    }
   ],
   "source": [
    "# 任意のt値を設定し、両側検定した結果を表示\n",
    "p_value * 2"
   ]
  },
  {
   "cell_type": "markdown",
   "metadata": {},
   "source": [
    "<H2>3. 2標本における解析</H2>\n",
    "<p>標本をもう1つ増やし、先ほどの標本と差があるのか否かについて検討してみましょう。</p>"
   ]
  },
  {
   "cell_type": "code",
   "execution_count": 12,
   "metadata": {},
   "outputs": [],
   "source": [
    "# 任意の平均値・標準偏差をもつ正規乱数を任意のサイズで作成し、\"data2\"に格納\n",
    "np.random.seed(0)\n",
    "\n",
    "norm_dist = stats.norm(loc=55, scale=15)\n",
    "data2 = norm_dist.rvs(size=1000)"
   ]
  },
  {
   "cell_type": "code",
   "execution_count": 17,
   "metadata": {},
   "outputs": [
    {
     "data": {
      "text/plain": [
       "(array([  9.,  20.,  70., 146., 217., 239., 160.,  86.,  38.,  15.]),\n",
       " array([ 9.30785418, 18.01610143, 26.72434868, 35.43259594, 44.14084319,\n",
       "        52.84909044, 61.5573377 , 70.26558495, 78.9738322 , 87.68207946,\n",
       "        96.39032671]),\n",
       " <a list of 10 Patch objects>)"
      ]
     },
     "execution_count": 17,
     "metadata": {},
     "output_type": "execute_result"
    },
    {
     "data": {
      "image/png": "[encoded data removed]",
      "text/plain": [
       "<Figure size 432x288 with 1 Axes>"
      ]
     },
     "metadata": {
      "needs_background": "light"
     },
     "output_type": "display_data"
    }
   ],
   "source": [
    "# data1とdata2をヒストグラムにてプロット\n",
    "plt.hist(data1, alpha=0.5, color='b')\n",
    "plt.hist(data2, alpha=0.5, color='r')"
   ]
  },
  {
   "cell_type": "code",
   "execution_count": 18,
   "metadata": {},
   "outputs": [
    {
     "data": {
      "text/plain": [
       "Ttest_relResult(statistic=-30.572969097530162, pvalue=1.9513209938669554e-145)"
      ]
     },
     "execution_count": 18,
     "metadata": {},
     "output_type": "execute_result"
    }
   ],
   "source": [
    "# data1, data2それぞれの値を使って「対応のあるt検定」で計算し、結果を表示\n",
    "stats.ttest_rel(data1, data2)"
   ]
  },
  {
   "cell_type": "code",
   "execution_count": 19,
   "metadata": {},
   "outputs": [
    {
     "data": {
      "text/plain": [
       "Ttest_indResult(statistic=-8.479415978793915, pvalue=4.757066914305031e-17)"
      ]
     },
     "execution_count": 19,
     "metadata": {},
     "output_type": "execute_result"
    }
   ],
   "source": [
    "# data1, data2それぞれの値を使って「対応のないt検定」で計算し、結果を表示\n",
    "stats.ttest_ind(data1, data2, equal_var=False)"
   ]
  },
  {
   "cell_type": "markdown",
   "metadata": {},
   "source": [
    "<h2>4. ここまでの仮説検定の結果を解釈して下記に記載してください</h2>"
   ]
  },
  {
   "cell_type": "markdown",
   "metadata": {},
   "source": [
    "data1はdata2と「 優位に異なる 」（ここをダブルクリックして編集状態にし、カギカッコの中に文言を埋めてください）"
   ]
  }
 ],
 "metadata": {
  "kernelspec": {
   "display_name": "Python 3",
   "language": "python",
   "name": "python3"
  },
  "language_info": {
   "codemirror_mode": {
    "name": "ipython",
    "version": 3
   },
   "file_extension": ".py",
   "mimetype": "text/x-python",
   "name": "python",
   "nbconvert_exporter": "python",
   "pygments_lexer": "ipython3",
   "version": "3.6.5"
  }
 },
 "nbformat": 4,
 "nbformat_minor": 2
}
